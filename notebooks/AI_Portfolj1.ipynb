{
 "cells": [
  {
   "cell_type": "markdown",
   "id": "48185670",
   "metadata": {},
   "source": [
    "# AI Portfölj 1 – Colab Kontrollpanel"
   ]
  },
  {
   "cell_type": "code",
   "execution_count": null,
   "id": "0507da8a",
   "metadata": {},
   "outputs": [],
   "source": [
    "!pip install pandas yfinance matplotlib openpyxl"
   ]
  },
  {
   "cell_type": "code",
   "execution_count": null,
   "id": "2491b8a8",
   "metadata": {},
   "outputs": [],
   "source": [
    "import os, pandas as pd, requests, io\n",
    "from datetime import date, timedelta\n",
    "\n",
    "PORTFOLIO_NAME = \"AI Portfölj 1\"\n",
    "CURRENCY = \"SEK\"\n",
    "INITIAL_CASH = 5000.0\n",
    "REPO_RAW = \"https://raw.githubusercontent.com/<user>/ai-portfolio-1/main\"\n",
    "EOD_FILE = \"/content/eod_log.csv\"\n",
    "\n",
    "def fetch_latest_prices():\n",
    "    for d in [date.today(), date.today()-timedelta(days=1), date.today()-timedelta(days=2)]:\n",
    "        url = f\"{REPO_RAW}/data/daily/prices_raw_{d.strftime('%Y%m%d')}.csv\"\n",
    "        r = requests.get(url)\n",
    "        if r.ok and len(r.text)>50:\n",
    "            return pd.read_csv(io.StringIO(r.text)), url\n",
    "    raise RuntimeError(\"Ingen dagsfil hittad.\")\n",
    "prices_raw, src = fetch_latest_prices()\n",
    "print(\"Hämtade från:\", src)\n",
    "prices_raw.head()\n"
   ]
  },
  {
   "cell_type": "code",
   "execution_count": null,
   "id": "27a8235b",
   "metadata": {},
   "outputs": [],
   "source": [
    "def as_float(x):\n",
    "    try: return float(str(x).replace(\",\", \".\"))\n",
    "    except: return float(\"nan\")\n",
    "\n",
    "holdings = pd.read_csv(\"/content/holdings.csv\")\n",
    "for col in [\"Antal\",\"Inköpskurs\"]:\n",
    "    holdings[col] = holdings[col].apply(as_float)\n",
    "\n",
    "px = prices_raw.rename(columns={\"ticker\":\"Ticker\"})\n",
    "holdings = holdings.merge(px[[\"Ticker\",\"close_sek\"]], on=\"Ticker\", how=\"left\")\n",
    "holdings[\"Marknadsvärde\"] = (holdings[\"Antal\"] * holdings[\"close_sek\"]).fillna(0.0)\n",
    "\n",
    "def stop_hit(row):\n",
    "    sl = str(row.get(\"Stop-loss\",\"\"))..strip()\n",
    "    price, buy = row[\"close_sek\"], row[\"Inköpskurs\"]\n",
    "    if pd.isna(price) or pd.isna(buy): return False\n",
    "    if sl.endswith(\"%\"):\n",
    "        try: p = float(sl[:-1]) / 100.0\n",
    "        except: return False\n",
    "        return price <= (1 - p) * buy\n",
    "    try: return price <= float(sl)\n",
    "    except: return False\n",
    "\n",
    "holdings[\"StopLossTriggad\"] = holdings.apply(stop_hit, axis=1)\n",
    "holdings\n"
   ]
  },
  {
   "cell_type": "code",
   "execution_count": null,
   "id": "a830300d",
   "metadata": {},
   "outputs": [],
   "source": [
    "def ensure_eod(path):\n",
    "    cols = [\"date\",\"day_tag\",\"portfolio_name\",f\"cash_{CURRENCY}\",f\"total_value_{CURRENCY}\",\"notes\"]\n",
    "    if not os.path.exists(path):\n",
    "        pd.DataFrame(columns=cols).to_csv(path, index=False)\n",
    "\n",
    "def upsert_eod(path, cash, total, notes=\"\"):\n",
    "    ensure_eod(path)\n",
    "    df = pd.read_csv(path)\n",
    "    today = date.today().isoformat()\n",
    "    row = {\"date\": today,\"day_tag\": f\"Dag X – {today}\",\n",
    "           \"portfolio_name\": PORTFOLIO_NAME,\n",
    "           f\"cash_{CURRENCY}\": float(cash),\n",
    "           f\"total_value_{CURRENCY}\": float(total),\n",
    "           \"notes\": notes}\n",
    "    if (df[\"date\"] == today).any():\n",
    "        df.loc[df[\"date\"] == today] = row\n",
    "    else:\n",
    "        df = pd.concat([df, pd.DataFrame([row])], ignore_index=True)\n",
    "    df.to_csv(path, index=False)\n",
    "    return df\n",
    "\n",
    "total_mv = float(holdings[\"Marknadsvärde\"].sum())\n",
    "cash = INITIAL_CASH\n",
    "eod = upsert_eod(EOD_FILE, cash, cash+total_mv, notes=\"EOD uppdaterad.\")\n",
    "eod.tail()\n"
   ]
  },
  {
   "cell_type": "code",
   "execution_count": null,
   "id": "bcdba650",
   "metadata": {},
   "outputs": [],
   "source": [
    "import matplotlib.pyplot as plt\n",
    "import pandas as pd\n",
    "\n",
    "df = pd.read_csv(EOD_FILE, parse_dates=[\"date\"]) \n",
    "plt.plot(df[\"date\"], df[f\"total_value_{CURRENCY}\"])\n",
    "plt.title(f\"EOD Total Value – {PORTFOLIO_NAME}\")\n",
    "plt.grid(True); plt.show()\n"
   ]
  }
 ],
 "metadata": {},
 "nbformat": 4,
 "nbformat_minor": 5
}